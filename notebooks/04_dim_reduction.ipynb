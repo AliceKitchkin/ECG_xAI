{
 "cells": [
  {
   "cell_type": "markdown",
   "id": "07881bbb",
   "metadata": {},
   "source": [
    "# Imports"
   ]
  },
  {
   "cell_type": "code",
   "execution_count": null,
   "id": "40fb9cd9",
   "metadata": {},
   "outputs": [],
   "source": [
    "from src.dim_reduction import PCA, ICA, PRCA, DRSA"
   ]
  },
  {
   "cell_type": "markdown",
   "id": "ec2a81b9",
   "metadata": {},
   "source": [
    "# Dimensionality Reduction Methods"
   ]
  },
  {
   "cell_type": "code",
   "execution_count": null,
   "id": "53356848",
   "metadata": {},
   "outputs": [],
   "source": [
    "# PCA\n",
    "pca = PCA(n_components=10)\n",
    "pca_result = pca.fit_transform(activations)\n",
    "\n",
    "# ICA\n",
    "ica = ICA(n_components=8)\n",
    "ica_result = ica.fit_transform(activations)\n",
    "\n",
    "# PRCA\n",
    "prca = PRCA(n_components=4, subspace_size=128)\n",
    "prca_result = prca.fit_transform(activations, contexts)\n",
    "\n",
    "# DRSA\n",
    "drsa = DRSA(n_components=4, subspace_size=128)\n",
    "drsa_result = drsa.fit_transform(activations, contexts)"
   ]
  }
 ],
 "metadata": {
  "kernelspec": {
   "display_name": "ecg_benchmarking_env",
   "language": "python",
   "name": "python3"
  },
  "language_info": {
   "name": "python",
   "version": "3.11.13"
  }
 },
 "nbformat": 4,
 "nbformat_minor": 5
}
