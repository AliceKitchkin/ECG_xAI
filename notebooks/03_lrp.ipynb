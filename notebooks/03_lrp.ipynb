{
 "cells": [
  {
   "cell_type": "markdown",
   "id": "07881bbb",
   "metadata": {},
   "source": [
    "# Imports"
   ]
  },
  {
   "cell_type": "code",
   "execution_count": null,
   "id": "40fb9cd9",
   "metadata": {},
   "outputs": [],
   "source": [
    "import torch\n",
    "from datetime import datetime\n",
    "from torch.utils.data import DataLoader\n",
    "import torch.optim as optim\n",
    "import torch.nn as nn\n",
    "import numpy as np\n",
    "\n",
    "import sys\n",
    "sys.path.append('../')\n",
    "from src.utils.data_preprocessing import load_processed_data\n",
    "from src.utils.model_training import ModelTrainer\n",
    "from src.models.vgg16_1D import VGG16_1D\n",
    "from src.explainers.lrp import LRP_1D"
   ]
  },
  {
   "cell_type": "markdown",
   "id": "f7316004",
   "metadata": {},
   "source": [
    "# Variables"
   ]
  },
  {
   "cell_type": "code",
   "execution_count": null,
   "id": "b633c9cd",
   "metadata": {},
   "outputs": [],
   "source": [
    "CLASS_NAMES = ['MI', 'NORM', 'OTHER']\n",
    "PREPROCESSED_DIR = f\"../data/preprocessed/\""
   ]
  },
  {
   "cell_type": "markdown",
   "id": "cfd331b4",
   "metadata": {},
   "source": [
    "# Load Data"
   ]
  },
  {
   "cell_type": "code",
   "execution_count": null,
   "id": "c94e7b93",
   "metadata": {},
   "outputs": [],
   "source": [
    "X_train, y_train = load_processed_data(PREPROCESSED_DIR, \"train\", class_names=CLASS_NAMES)\n",
    "X_val, y_val = load_processed_data(PREPROCESSED_DIR, \"val\", class_names=CLASS_NAMES)\n",
    "X_test, y_test = load_processed_data(PREPROCESSED_DIR, \"test\", class_names=CLASS_NAMES)"
   ]
  },
  {
   "cell_type": "code",
   "execution_count": null,
   "id": "6b7c078d",
   "metadata": {},
   "outputs": [],
   "source": [
    "splits = {'Train': y_train, 'Validation': y_val, 'Test': y_test}\n",
    "\n",
    "for split_name, y_split in splits.items():\n",
    "    y_arr = np.asarray(y_split)\n",
    "    # Multi-Label: Summiere pro Klasse (Spalte)\n",
    "    if y_arr.ndim == 2 and y_arr.shape[1] == len(CLASS_NAMES):\n",
    "        counts = y_arr.sum(axis=0)\n",
    "    else:\n",
    "        counts = np.bincount(y_arr, minlength=len(CLASS_NAMES))\n",
    "    perc = counts / counts.sum() * 100\n",
    "    print(f\"{split_name}:\")\n",
    "    for name, c, p in zip(CLASS_NAMES, counts, perc):\n",
    "        print(f\"  {name}: {int(c)} ({p:.2f}%)\")\n",
    "    print(f\"  TOTAL: {int(counts.sum())} (100.00%)\\n\")"
   ]
  },
  {
   "cell_type": "markdown",
   "id": "ec2a81b9",
   "metadata": {},
   "source": [
    "# Load Model"
   ]
  },
  {
   "cell_type": "code",
   "execution_count": null,
   "id": "53356848",
   "metadata": {},
   "outputs": [],
   "source": [
    "date = \"2025_08_29\"\n",
    "model_path = f\"../src/models/trained/vgg16_1d_trained_{date}.pth\"\n",
    "history_path = f\"../data/results/training_history/training_history_{date}.csv\""
   ]
  },
  {
   "cell_type": "code",
   "execution_count": null,
   "id": "085c00cd",
   "metadata": {},
   "outputs": [],
   "source": [
    "# load existing model\n",
    "ModelTrainer.load_model(model_path)\n",
    "ModelTrainer.load_training_history(history_path)"
   ]
  },
  {
   "cell_type": "markdown",
   "id": "f3deb0be",
   "metadata": {},
   "source": [
    "# LRP"
   ]
  },
  {
   "cell_type": "code",
   "execution_count": null,
   "id": "cc18520d",
   "metadata": {},
   "outputs": [],
   "source": []
  },
  {
   "cell_type": "markdown",
   "id": "c2f74b71",
   "metadata": {},
   "source": [
    "# Plot Signals with LRP"
   ]
  },
  {
   "cell_type": "code",
   "execution_count": null,
   "id": "b955ca27",
   "metadata": {},
   "outputs": [],
   "source": []
  }
 ],
 "metadata": {
  "kernelspec": {
   "display_name": "ecg_benchmarking_env",
   "language": "python",
   "name": "python3"
  },
  "language_info": {
   "name": "python",
   "version": "3.11.13"
  }
 },
 "nbformat": 4,
 "nbformat_minor": 5
}
