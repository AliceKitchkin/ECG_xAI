{
 "cells": [
  {
   "cell_type": "markdown",
   "id": "cb4335b2",
   "metadata": {},
   "source": [
    "# Imports"
   ]
  },
  {
   "cell_type": "code",
   "execution_count": 1,
   "id": "0f4e9218",
   "metadata": {},
   "outputs": [],
   "source": [
    "import torch\n",
    "from torch.utils.data import DataLoader\n",
    "import torch.optim as optim\n",
    "import torch.nn as nn\n",
    "import numpy as np\n",
    "\n",
    "import sys\n",
    "sys.path.append('../')\n",
    "from src.utils.data_preprocessing import load_processed_data\n",
    "from src.models.vgg16_1D import VGG16_1D\n",
    "from src.utils.tensor_preprocessing import TensorPreprocessor\n",
    "from src.utils.model_training import ModelTrainer\n",
    "from src.utils.model_tresholds import ThresholdOptimizer\n",
    "from src.utils.model_evaluation import ModelEvaluation"
   ]
  },
  {
   "cell_type": "markdown",
   "id": "4ade44f8",
   "metadata": {},
   "source": [
    "# Variables"
   ]
  },
  {
   "cell_type": "code",
   "execution_count": 2,
   "id": "29a16ba9",
   "metadata": {},
   "outputs": [],
   "source": [
    "DATA_DIR = \"../data/raw/ptb_xl_ecg/\"\n",
    "SAMPLING_FREQUENCY = 100\n",
    "TASK = \"superdiagnostic\"\n",
    "CLASS_NAMES = ['MI', 'NORM', 'OTHER']\n",
    "SCALER_DIR = f\"../data/results/scaler/\"\n",
    "PREPROCESSED_DIR = f\"../data/preprocessed/\""
   ]
  },
  {
   "cell_type": "markdown",
   "id": "393ad053",
   "metadata": {},
   "source": [
    "# Load Data"
   ]
  },
  {
   "cell_type": "code",
   "execution_count": 3,
   "id": "cf5e4400",
   "metadata": {},
   "outputs": [],
   "source": [
    "# 1. Daten laden\n",
    "X_train, y_train = load_processed_data(PREPROCESSED_DIR, \"train\")\n",
    "X_val, y_val = load_processed_data(PREPROCESSED_DIR, \"val\")\n",
    "X_test, y_test = load_processed_data(PREPROCESSED_DIR, \"test\")"
   ]
  },
  {
   "cell_type": "code",
   "execution_count": 4,
   "id": "869a7bc1",
   "metadata": {},
   "outputs": [
    {
     "name": "stdout",
     "output_type": "stream",
     "text": [
      "(17084,)\n",
      "[1 1 1 1 1]\n"
     ]
    }
   ],
   "source": [
    "print(y_train.shape)  # Sollte (n_samples, 3) sein, nicht (n_samples,)\n",
    "print(y_train[:5])    # Sollte z.B. [[1,0,0],[0,1,0],...] sein"
   ]
  },
  {
   "cell_type": "code",
   "execution_count": 5,
   "id": "0073f8c4",
   "metadata": {},
   "outputs": [],
   "source": [
    "# Nach dem Laden:\n",
    "if y_train.ndim == 1:\n",
    "    y_train = np.eye(len(CLASS_NAMES))[y_train]\n",
    "if y_val.ndim == 1:\n",
    "    y_val = np.eye(len(CLASS_NAMES))[y_val]\n",
    "if y_test.ndim == 1:\n",
    "    y_test = np.eye(len(CLASS_NAMES))[y_test]"
   ]
  },
  {
   "cell_type": "code",
   "execution_count": 6,
   "id": "041d4735",
   "metadata": {},
   "outputs": [
    {
     "name": "stdout",
     "output_type": "stream",
     "text": [
      "(17084, 3)\n",
      "[[0. 1. 0.]\n",
      " [0. 1. 0.]\n",
      " [0. 1. 0.]\n",
      " [0. 1. 0.]\n",
      " [0. 1. 0.]]\n"
     ]
    }
   ],
   "source": [
    "print(y_train.shape)  # Sollte (n_samples, 3) sein, nicht (n_samples,)\n",
    "print(y_train[:5])    # Sollte z.B. [[1,0,0],[0,1,0],...] sein"
   ]
  },
  {
   "cell_type": "code",
   "execution_count": 7,
   "id": "11c58148",
   "metadata": {},
   "outputs": [
    {
     "name": "stdout",
     "output_type": "stream",
     "text": [
      "Train:\n",
      "  MI: 4379 (25.63%)\n",
      "  NORM: 7595 (44.46%)\n",
      "  OTHER: 5110 (29.91%)\n",
      "  TOTAL: 17084 (100.00%)\n",
      "\n",
      "Validation:\n",
      "  MI: 540 (25.16%)\n",
      "  NORM: 955 (44.50%)\n",
      "  OTHER: 651 (30.34%)\n",
      "  TOTAL: 2146 (100.00%)\n",
      "\n",
      "Test:\n",
      "  MI: 550 (25.49%)\n",
      "  NORM: 963 (44.62%)\n",
      "  OTHER: 645 (29.89%)\n",
      "  TOTAL: 2158 (100.00%)\n",
      "\n"
     ]
    }
   ],
   "source": [
    "splits = {'Train': y_train, 'Validation': y_val, 'Test': y_test}\n",
    "\n",
    "for split_name, y_split in splits.items():\n",
    "    y_arr = np.asarray(y_split)\n",
    "    # Multi-Label: Summiere pro Klasse (Spalte)\n",
    "    if y_arr.ndim == 2 and y_arr.shape[1] == len(CLASS_NAMES):\n",
    "        counts = y_arr.sum(axis=0)\n",
    "    else:\n",
    "        counts = np.bincount(y_arr, minlength=len(CLASS_NAMES))\n",
    "    perc = counts / counts.sum() * 100\n",
    "    print(f\"{split_name}:\")\n",
    "    for name, c, p in zip(CLASS_NAMES, counts, perc):\n",
    "        print(f\"  {name}: {int(c)} ({p:.2f}%)\")\n",
    "    print(f\"  TOTAL: {int(counts.sum())} (100.00%)\\n\")"
   ]
  },
  {
   "cell_type": "markdown",
   "id": "792f84b3",
   "metadata": {},
   "source": [
    "# Load Model"
   ]
  },
  {
   "cell_type": "code",
   "execution_count": 8,
   "id": "459d6697",
   "metadata": {},
   "outputs": [],
   "source": [
    "model = VGG16_1D(in_channels=12, num_classes=len(CLASS_NAMES), input_length=1000)"
   ]
  },
  {
   "cell_type": "markdown",
   "id": "02479c7e",
   "metadata": {},
   "source": [
    "# Load Tensors"
   ]
  },
  {
   "cell_type": "code",
   "execution_count": 9,
   "id": "e2958e89",
   "metadata": {},
   "outputs": [],
   "source": [
    "tp = TensorPreprocessor()"
   ]
  },
  {
   "cell_type": "code",
   "execution_count": 10,
   "id": "a81e99c4",
   "metadata": {},
   "outputs": [
    {
     "name": "stdout",
     "output_type": "stream",
     "text": [
      "[Auto-Fix] Initiale Prüfung:\n",
      "--- Tensor Shape Check ---\n",
      "X_tensor: shape=(17084, 1000, 12), dtype=torch.float32\n",
      "y_tensor: shape=(17084, 3), dtype=torch.int64\n",
      "Warnung: Channels (X_tensor.shape[1]=1000) stimmt nicht mit expected_channels=12 überein!\n",
      "Warnung: Length (X_tensor.shape[2]=12) stimmt nicht mit expected_length=1000 überein!\n",
      "--------------------------\n",
      "[Auto-Fix] Versuche Shape automatisch zu korrigieren...\n",
      "Shape-Fix: Permutiere von (Batch, Length, Channels) zu (Batch, Channels, Length)\n",
      "--- Tensor Shape Check ---\n",
      "X_tensor: shape=(17084, 12, 1000), dtype=torch.float32\n",
      "y_tensor: shape=(17084, 3), dtype=torch.int64\n",
      "Alles korrekt: Tensor-Formate stimmen überein.\n",
      "--------------------------\n",
      "[Auto-Fix] Initiale Prüfung:\n",
      "--- Tensor Shape Check ---\n",
      "X_tensor: shape=(2146, 1000, 12), dtype=torch.float32\n",
      "y_tensor: shape=(2146, 3), dtype=torch.int64\n",
      "Warnung: Channels (X_tensor.shape[1]=1000) stimmt nicht mit expected_channels=12 überein!\n",
      "Warnung: Length (X_tensor.shape[2]=12) stimmt nicht mit expected_length=1000 überein!\n",
      "--------------------------\n",
      "[Auto-Fix] Versuche Shape automatisch zu korrigieren...\n",
      "Shape-Fix: Permutiere von (Batch, Length, Channels) zu (Batch, Channels, Length)\n",
      "--- Tensor Shape Check ---\n",
      "X_tensor: shape=(2146, 12, 1000), dtype=torch.float32\n",
      "y_tensor: shape=(2146, 3), dtype=torch.int64\n",
      "Alles korrekt: Tensor-Formate stimmen überein.\n",
      "--------------------------\n",
      "[Auto-Fix] Initiale Prüfung:\n",
      "--- Tensor Shape Check ---\n",
      "X_tensor: shape=(2158, 1000, 12), dtype=torch.float32\n",
      "y_tensor: shape=(2158, 3), dtype=torch.int64\n",
      "Warnung: Channels (X_tensor.shape[1]=1000) stimmt nicht mit expected_channels=12 überein!\n",
      "Warnung: Length (X_tensor.shape[2]=12) stimmt nicht mit expected_length=1000 überein!\n",
      "--------------------------\n",
      "[Auto-Fix] Versuche Shape automatisch zu korrigieren...\n",
      "Shape-Fix: Permutiere von (Batch, Length, Channels) zu (Batch, Channels, Length)\n",
      "--- Tensor Shape Check ---\n",
      "X_tensor: shape=(2158, 12, 1000), dtype=torch.float32\n",
      "y_tensor: shape=(2158, 3), dtype=torch.int64\n",
      "Alles korrekt: Tensor-Formate stimmen überein.\n",
      "--------------------------\n"
     ]
    }
   ],
   "source": [
    "# Trainingsdaten (und Labels) in TensorDataset umwandeln, inkl. Permute falls nötig\n",
    "train_dataset = tp.to_dataset(X_train, y_train.astype(np.float32), expected_channels=12, expected_length=1000)\n",
    "val_dataset = tp.to_dataset(X_val, y_val.astype(np.float32), expected_channels=12, expected_length=1000)\n",
    "test_dataset = tp.to_dataset(X_test, y_test.astype(np.float32), expected_channels=12, expected_length=1000)"
   ]
  },
  {
   "cell_type": "code",
   "execution_count": 11,
   "id": "ec1b9a9a",
   "metadata": {},
   "outputs": [],
   "source": [
    "train_dataset.tensors = (train_dataset.tensors[0], train_dataset.tensors[1].float())\n",
    "val_dataset.tensors = (val_dataset.tensors[0], val_dataset.tensors[1].float())\n",
    "test_dataset.tensors = (test_dataset.tensors[0], test_dataset.tensors[1].float())"
   ]
  },
  {
   "cell_type": "code",
   "execution_count": 12,
   "id": "657b9920",
   "metadata": {},
   "outputs": [],
   "source": [
    "# DataLoader erzeugen\n",
    "train_loader = DataLoader(train_dataset, batch_size=64, shuffle=True)\n",
    "val_loader = DataLoader(val_dataset, batch_size=64, shuffle=False)\n",
    "test_loader = DataLoader(test_dataset, batch_size=64, shuffle=False)"
   ]
  },
  {
   "cell_type": "markdown",
   "id": "83b6e23c",
   "metadata": {},
   "source": [
    "# Model Training"
   ]
  },
  {
   "cell_type": "code",
   "execution_count": 13,
   "id": "ae4ff3a9",
   "metadata": {},
   "outputs": [],
   "source": [
    "# y_train enthält alle Trainingslabels als Multi-Hot (Multi-Label)\n",
    "if isinstance(y_train, np.ndarray) and y_train.ndim == 2:\n",
    "    class_counts = y_train.sum(axis=0)\n",
    "else:\n",
    "    class_counts = np.bincount(y_train)"
   ]
  },
  {
   "cell_type": "code",
   "execution_count": 14,
   "id": "e9e5b548",
   "metadata": {},
   "outputs": [],
   "source": [
    "class_weights = 1.0 / class_counts   # Inverse Häufigkeit\n",
    "class_weights = class_weights / class_weights.sum() * len(class_counts)  # Normierung\n",
    "class_weights = torch.tensor(class_weights, dtype=torch.float32)\n",
    "\n",
    "# Initialize the loss function, used for\n",
    "criterion = nn.BCEWithLogitsLoss(pos_weight=class_weights)"
   ]
  },
  {
   "cell_type": "code",
   "execution_count": 15,
   "id": "c972f6e3",
   "metadata": {},
   "outputs": [],
   "source": [
    "optimizer = optim.Adam(model.parameters(), lr=0.0001)"
   ]
  },
  {
   "cell_type": "code",
   "execution_count": 16,
   "id": "267c8d85",
   "metadata": {},
   "outputs": [],
   "source": [
    "# Initialize the ModelTrainer, for managing the training process\n",
    "trainer = ModelTrainer(model, train_loader, val_loader, optimizer, criterion)"
   ]
  },
  {
   "cell_type": "code",
   "execution_count": null,
   "id": "6cb27449",
   "metadata": {},
   "outputs": [],
   "source": [
    "# Start training the model mit Evaluation nach jeder Epoche (Multi-Label)\n",
    "#thresholds = [0.3, 0.7, 0.3]  # MI, NORM, OTHER\n",
    "#trainer.train(num_epochs=10, eval_fn=ModelEvaluation.compute_metrics, threshold=thresholds)"
   ]
  },
  {
   "cell_type": "code",
   "execution_count": null,
   "id": "7a4c4241",
   "metadata": {},
   "outputs": [],
   "source": [
    "# save trained model\n",
    "#path = \"../src/models/trained/vgg16_1d_trained.pth\"\n",
    "#trainer.save_model(path)"
   ]
  },
  {
   "cell_type": "code",
   "execution_count": 18,
   "id": "20c18dac",
   "metadata": {},
   "outputs": [
    {
     "name": "stderr",
     "output_type": "stream",
     "text": [
      "c:\\Users\\AliceKitchkin\\Repos\\ECG_xAI\\notebooks\\..\\src\\utils\\model_training.py:174: FutureWarning: You are using `torch.load` with `weights_only=False` (the current default value), which uses the default pickle module implicitly. It is possible to construct malicious pickle data which will execute arbitrary code during unpickling (See https://github.com/pytorch/pytorch/blob/main/SECURITY.md#untrusted-models for more details). In a future release, the default value for `weights_only` will be flipped to `True`. This limits the functions that could be executed during unpickling. Arbitrary objects will no longer be allowed to be loaded via this mode unless they are explicitly allowlisted by the user via `torch.serialization.add_safe_globals`. We recommend you start setting `weights_only=True` for any use case where you don't have full control of the loaded file. Please open an issue on GitHub for any issues related to this experimental feature.\n",
      "  self.model.load_state_dict(torch.load(path, map_location=self.device))\n"
     ]
    }
   ],
   "source": [
    "# load existing model\n",
    "path = \"../src/models/trained/vgg16_1d_trained.pth\"\n",
    "trainer.load_model(path)"
   ]
  },
  {
   "cell_type": "markdown",
   "id": "e841a724",
   "metadata": {},
   "source": [
    "## Thresholds"
   ]
  },
  {
   "cell_type": "code",
   "execution_count": 19,
   "id": "e805c2d4",
   "metadata": {},
   "outputs": [],
   "source": [
    "# Nach dem Modelltraining: Validierungslauf\n",
    "y_true_val, y_probs_val = trainer.inferencing(val_loader)"
   ]
  },
  {
   "cell_type": "code",
   "execution_count": 20,
   "id": "6fb8db02",
   "metadata": {},
   "outputs": [],
   "source": [
    "# CLASS_NAMES = ['MI', 'NORM', 'OTHER']\n",
    "metrics_config = {0: 'recall_weighted', 1: 'precision_weighted', 2: 'recall_weighted'}\n",
    "threshold_optimizer = ThresholdOptimizer(metrics_config, beta=1.5)"
   ]
  },
  {
   "cell_type": "code",
   "execution_count": 21,
   "id": "de7ea98a",
   "metadata": {},
   "outputs": [
    {
     "name": "stderr",
     "output_type": "stream",
     "text": [
      "Optimizing Thresholds: 100%|██████████| 3/3 [00:00<00:00, 43.43it/s]"
     ]
    },
    {
     "name": "stdout",
     "output_type": "stream",
     "text": [
      "Optimaler Schwellenwert für Label 0 (recall_weighted): 0.30 mit Score 0.5053\n",
      "Optimaler Schwellenwert für Label 1 (precision_weighted): 0.50 mit Score 0.6021\n",
      "Optimaler Schwellenwert für Label 2 (recall_weighted): 0.20 mit Score 0.4532\n",
      "Finale optimierte Schwellenwerte: {0: 0.30000000000000004, 1: 0.5000000000000001, 2: 0.20000000000000004}\n"
     ]
    },
    {
     "name": "stderr",
     "output_type": "stream",
     "text": [
      "\n"
     ]
    }
   ],
   "source": [
    "optimal_thresholds = threshold_optimizer.optimize(y_true_val, y_probs_val)\n",
    "print(f\"Finale optimierte Schwellenwerte: {optimal_thresholds}\")"
   ]
  },
  {
   "cell_type": "markdown",
   "id": "c6b4fc03",
   "metadata": {},
   "source": [
    "# Evaluation on Validation Data"
   ]
  },
  {
   "cell_type": "code",
   "execution_count": 22,
   "id": "dfa1158e",
   "metadata": {},
   "outputs": [],
   "source": [
    "y_pred_val = (y_probs_val >= list(optimal_thresholds.values())).astype(int)"
   ]
  },
  {
   "cell_type": "code",
   "execution_count": 23,
   "id": "2cd91d4d",
   "metadata": {},
   "outputs": [
    {
     "name": "stdout",
     "output_type": "stream",
     "text": [
      "\n",
      "--- Evaluation Metrics ---\n",
      "accuracy: 0.5829\n",
      "f1_weighted: 0.7435\n",
      "precision_weighted: 0.6935\n",
      "recall_weighted: 0.8350\n",
      "f1_per_class:\n",
      "  MI: 0.7217\n",
      "  NORM: 0.8168\n",
      "  OTHER: 0.6539\n",
      "precision_per_class:\n",
      "  MI: 0.6231\n",
      "  NORM: 0.8547\n",
      "  OTHER: 0.5155\n",
      "recall_per_class:\n",
      "  MI: 0.8574\n",
      "  NORM: 0.7822\n",
      "  OTHER: 0.8940\n"
     ]
    }
   ],
   "source": [
    "# Metriken berechnen und ausgeben\n",
    "val_metrics = ModelEvaluation.compute_metrics(y_true_val, y_pred_val)\n",
    "ModelEvaluation.print_metrics(val_metrics, class_names=CLASS_NAMES)"
   ]
  },
  {
   "cell_type": "code",
   "execution_count": 24,
   "id": "1ea18939",
   "metadata": {},
   "outputs": [
    {
     "data": {
      "image/png": "[encoded data removed]",
      "text/plain": [
       "<Figure size 700x600 with 2 Axes>"
      ]
     },
     "metadata": {},
     "output_type": "display_data"
    }
   ],
   "source": [
    "ModelEvaluation.plot_confusion_matrix(y_true_val, y_pred_val, class_names=CLASS_NAMES, normalize=True)"
   ]
  },
  {
   "cell_type": "code",
   "execution_count": null,
   "id": "9d525121",
   "metadata": {},
   "outputs": [],
   "source": [
    "# Loss-Kurven plotten (hierfür werden die in der Trainer-Klasse gespeicherten Verluste benötigt)\n",
    "# Trainer.train_losses, Trainer.val_losses, Trainer.train_losses_per_class, Trainer.val_losses_per_class\n",
    "# Annahme: Sie haben diese Werte vom Trainer-Objekt gespeichert oder als Attribut zugänglich gemacht.\n",
    "# Beispiel:\n",
    "# trainer = ModelTrainer(...)\n",
    "# trainer.train(...)\n",
    "# ModelEvaluation.plot_loss_curves(\n",
    "#     train_losses=trainer.train_losses, \n",
    "#     val_losses=trainer.val_losses,\n",
    "#     train_losses_per_class=trainer.train_losses_per_class,\n",
    "#     val_losses_per_class=trainer.val_losses_per_class,\n",
    "#     class_names=CLASS_NAMES\n",
    "# )"
   ]
  },
  {
   "cell_type": "markdown",
   "id": "40efb603",
   "metadata": {},
   "source": [
    "# Evaluation on Test Data"
   ]
  },
  {
   "cell_type": "code",
   "execution_count": 26,
   "id": "2ed8d544",
   "metadata": {},
   "outputs": [],
   "source": [
    "y_true_test, y_probs_test = trainer.inferencing(test_loader)"
   ]
  },
  {
   "cell_type": "code",
   "execution_count": 27,
   "id": "0ec7d68e",
   "metadata": {},
   "outputs": [],
   "source": [
    "y_pred_test = (y_probs_test >= list(optimal_thresholds.values())).astype(int)"
   ]
  },
  {
   "cell_type": "code",
   "execution_count": 28,
   "id": "4c6d29d7",
   "metadata": {},
   "outputs": [
    {
     "name": "stdout",
     "output_type": "stream",
     "text": [
      "\n",
      "--- Evaluation Metrics ---\n",
      "accuracy: 0.5788\n",
      "f1_weighted: 0.7428\n",
      "precision_weighted: 0.6899\n",
      "recall_weighted: 0.8360\n",
      "f1_per_class:\n",
      "  MI: 0.7135\n",
      "  NORM: 0.8283\n",
      "  OTHER: 0.6402\n",
      "precision_per_class:\n",
      "  MI: 0.6153\n",
      "  NORM: 0.8568\n",
      "  OTHER: 0.5045\n",
      "recall_per_class:\n",
      "  MI: 0.8491\n",
      "  NORM: 0.8017\n",
      "  OTHER: 0.8760\n"
     ]
    }
   ],
   "source": [
    "test_metrics = ModelEvaluation.compute_metrics(y_true_test, y_pred_test)\n",
    "ModelEvaluation.print_metrics(test_metrics, class_names=CLASS_NAMES)"
   ]
  },
  {
   "cell_type": "code",
   "execution_count": 29,
   "id": "03d52c76",
   "metadata": {},
   "outputs": [
    {
     "data": {
      "image/png": "[encoded data removed]",
      "text/plain": [
       "<Figure size 700x600 with 2 Axes>"
      ]
     },
     "metadata": {},
     "output_type": "display_data"
    }
   ],
   "source": [
    "ModelEvaluation.plot_confusion_matrix(y_true_test, y_pred_test, class_names=CLASS_NAMES, normalize=True)"
   ]
  }
 ],
 "metadata": {
  "kernelspec": {
   "display_name": "ecg_benchmarking_env",
   "language": "python",
   "name": "python3"
  },
  "language_info": {
   "codemirror_mode": {
    "name": "ipython",
    "version": 3
   },
   "file_extension": ".py",
   "mimetype": "text/x-python",
   "name": "python",
   "nbconvert_exporter": "python",
   "pygments_lexer": "ipython3",
   "version": "3.11.13"
  }
 },
 "nbformat": 4,
 "nbformat_minor": 5
}
